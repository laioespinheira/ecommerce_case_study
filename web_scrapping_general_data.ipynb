{
 "cells": [
  {
   "cell_type": "markdown",
   "id": "b08c84e2",
   "metadata": {},
   "source": [
    "# 0.0 Imports"
   ]
  },
  {
   "cell_type": "code",
   "execution_count": 2,
   "id": "7a6df67e",
   "metadata": {
    "ExecuteTime": {
     "end_time": "2022-12-20T09:53:29.658918Z",
     "start_time": "2022-12-20T09:53:28.883624Z"
    },
    "scrolled": true
   },
   "outputs": [],
   "source": [
    "import requests\n",
    "import pandas as pd\n",
    "import numpy as np\n",
    "\n",
    "from datetime import datetime\n",
    "from bs4 import BeautifulSoup"
   ]
  },
  {
   "cell_type": "markdown",
   "id": "8ded165f",
   "metadata": {},
   "source": [
    "# 1.0 Web scrapping with BeautifulSoup"
   ]
  },
  {
   "cell_type": "code",
   "execution_count": 3,
   "id": "2c89cd72",
   "metadata": {
    "ExecuteTime": {
     "end_time": "2022-12-20T09:53:31.945971Z",
     "start_time": "2022-12-20T09:53:29.660933Z"
    }
   },
   "outputs": [],
   "source": [
    "# Webpage URL\n",
    "url = 'https://www2.hm.com/en_au/men/products/jeans.html'\n",
    "\n",
    "# parameters\n",
    "headers = {'User-Agent': 'Mozilla/5.0 (Macintosh; Intel Mac OS X 10_11_5) AppleWebKit/537.36 (KHTML, like Gecko) Chrome/50.0.2661.102 Safari/537.36'}\n",
    "\n",
    "# request to URL\n",
    "page = requests.get( url, headers=headers)\n",
    "\n",
    "# Beautiful Soup object\n",
    "soup = BeautifulSoup( page.text, 'html.parser')\n",
    "\n",
    "# ============== Product Data =================\n",
    "products = soup.find( 'ul', class_='products-listing small' )\n",
    "product_list = products.find_all( 'article', class_='hm-product-item')"
   ]
  },
  {
   "cell_type": "markdown",
   "id": "53fb5583",
   "metadata": {},
   "source": [
    "# 2.0 Creating DataFrame with required attributes"
   ]
  },
  {
   "cell_type": "code",
   "execution_count": 7,
   "id": "715eaa4c",
   "metadata": {
    "ExecuteTime": {
     "end_time": "2022-12-20T09:53:32.680148Z",
     "start_time": "2022-12-20T09:53:32.358502Z"
    }
   },
   "outputs": [],
   "source": [
    "# get product id\n",
    "product_id = [p.get( 'data-articlecode' ) for p in product_list]\n",
    "\n",
    "# get product category\n",
    "product_category = [p.get( 'data-category' ) for p in product_list]"
   ]
  },
  {
   "cell_type": "code",
   "execution_count": 8,
   "id": "405814ef",
   "metadata": {
    "ExecuteTime": {
     "end_time": "2022-12-20T09:53:32.899080Z",
     "start_time": "2022-12-20T09:53:32.683131Z"
    }
   },
   "outputs": [],
   "source": [
    "# get product name\n",
    "product_list = products.find_all( 'a', class_='link' )\n",
    "product_name = [p.get_text() for p in product_list]"
   ]
  },
  {
   "cell_type": "code",
   "execution_count": 9,
   "id": "11db8bcd",
   "metadata": {
    "ExecuteTime": {
     "end_time": "2022-12-20T09:53:33.007991Z",
     "start_time": "2022-12-20T09:53:32.901101Z"
    }
   },
   "outputs": [],
   "source": [
    "# get price\n",
    "product_list = products.find_all( 'span', class_='price regular' )\n",
    "product_price = [p.get_text() for p in product_list]"
   ]
  },
  {
   "cell_type": "code",
   "execution_count": 10,
   "id": "63c2cbcd",
   "metadata": {
    "ExecuteTime": {
     "end_time": "2022-12-20T09:53:33.179090Z",
     "start_time": "2022-12-20T09:53:33.010974Z"
    },
    "scrolled": true
   },
   "outputs": [],
   "source": [
    "# create dataframe\n",
    "data = pd.DataFrame( [product_id, product_category, product_name, product_price] ).T\n",
    "data.columns = ['product_id', 'product_category', 'product_name', 'product_price']\n",
    "# web scrapping datetime\n",
    "data['scrapy_datetime'] = datetime.now().strftime( '%Y-%m-%d %H:%M:%S' )"
   ]
  },
  {
   "cell_type": "code",
   "execution_count": 13,
   "id": "c02bf5e1",
   "metadata": {
    "ExecuteTime": {
     "end_time": "2022-12-20T09:53:59.138313Z",
     "start_time": "2022-12-20T09:53:59.110097Z"
    },
    "scrolled": true
   },
   "outputs": [
    {
     "data": {
      "text/html": [
       "<div>\n",
       "<style scoped>\n",
       "    .dataframe tbody tr th:only-of-type {\n",
       "        vertical-align: middle;\n",
       "    }\n",
       "\n",
       "    .dataframe tbody tr th {\n",
       "        vertical-align: top;\n",
       "    }\n",
       "\n",
       "    .dataframe thead th {\n",
       "        text-align: right;\n",
       "    }\n",
       "</style>\n",
       "<table border=\"1\" class=\"dataframe\">\n",
       "  <thead>\n",
       "    <tr style=\"text-align: right;\">\n",
       "      <th></th>\n",
       "      <th>product_id</th>\n",
       "      <th>product_category</th>\n",
       "      <th>product_name</th>\n",
       "      <th>product_price</th>\n",
       "      <th>scrapy_datetime</th>\n",
       "    </tr>\n",
       "  </thead>\n",
       "  <tbody>\n",
       "    <tr>\n",
       "      <th>0</th>\n",
       "      <td>0985159001</td>\n",
       "      <td>men_jeans_skinny</td>\n",
       "      <td>Skinny Jeans</td>\n",
       "      <td>$39.99</td>\n",
       "      <td>2022-12-20 17:53:33</td>\n",
       "    </tr>\n",
       "    <tr>\n",
       "      <th>1</th>\n",
       "      <td>1008110002</td>\n",
       "      <td>men_jeans_slim</td>\n",
       "      <td>Freefit® Slim Jeans</td>\n",
       "      <td>$89.99</td>\n",
       "      <td>2022-12-20 17:53:33</td>\n",
       "    </tr>\n",
       "    <tr>\n",
       "      <th>2</th>\n",
       "      <td>0811993021</td>\n",
       "      <td>men_jeans_regular</td>\n",
       "      <td>Regular Jeans</td>\n",
       "      <td>$49.99</td>\n",
       "      <td>2022-12-20 17:53:33</td>\n",
       "    </tr>\n",
       "    <tr>\n",
       "      <th>3</th>\n",
       "      <td>0751994018</td>\n",
       "      <td>men_jeans_slim</td>\n",
       "      <td>Slim Jeans</td>\n",
       "      <td>$49.99</td>\n",
       "      <td>2022-12-20 17:53:33</td>\n",
       "    </tr>\n",
       "    <tr>\n",
       "      <th>4</th>\n",
       "      <td>0875105018</td>\n",
       "      <td>men_jeans_relaxed</td>\n",
       "      <td>Relaxed Jeans</td>\n",
       "      <td>$69.99</td>\n",
       "      <td>2022-12-20 17:53:33</td>\n",
       "    </tr>\n",
       "  </tbody>\n",
       "</table>\n",
       "</div>"
      ],
      "text/plain": [
       "   product_id   product_category         product_name product_price  \\\n",
       "0  0985159001   men_jeans_skinny         Skinny Jeans        $39.99   \n",
       "1  1008110002     men_jeans_slim  Freefit® Slim Jeans        $89.99   \n",
       "2  0811993021  men_jeans_regular        Regular Jeans        $49.99   \n",
       "3  0751994018     men_jeans_slim           Slim Jeans        $49.99   \n",
       "4  0875105018  men_jeans_relaxed        Relaxed Jeans        $69.99   \n",
       "\n",
       "       scrapy_datetime  \n",
       "0  2022-12-20 17:53:33  \n",
       "1  2022-12-20 17:53:33  \n",
       "2  2022-12-20 17:53:33  \n",
       "3  2022-12-20 17:53:33  \n",
       "4  2022-12-20 17:53:33  "
      ]
     },
     "execution_count": 13,
     "metadata": {},
     "output_type": "execute_result"
    }
   ],
   "source": [
    "# final dataframe\n",
    "data.head()"
   ]
  },
  {
   "cell_type": "code",
   "execution_count": 20,
   "id": "f23cf5d4",
   "metadata": {
    "ExecuteTime": {
     "end_time": "2022-12-20T08:24:17.926717Z",
     "start_time": "2022-12-20T08:24:17.822819Z"
    }
   },
   "outputs": [],
   "source": [
    "data.to_csv('data_main_attributes.csv')"
   ]
  }
 ],
 "metadata": {
  "kernelspec": {
   "display_name": "Python 3 (ipykernel)",
   "language": "python",
   "name": "python3"
  },
  "language_info": {
   "codemirror_mode": {
    "name": "ipython",
    "version": 3
   },
   "file_extension": ".py",
   "mimetype": "text/x-python",
   "name": "python",
   "nbconvert_exporter": "python",
   "pygments_lexer": "ipython3",
   "version": "3.9.13"
  }
 },
 "nbformat": 4,
 "nbformat_minor": 5
}
